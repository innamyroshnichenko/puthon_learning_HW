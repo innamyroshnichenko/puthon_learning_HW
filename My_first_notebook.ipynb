{
 "cells": [
  {
   "cell_type": "markdown",
   "id": "79761642-1f4e-4549-8946-fc37c914373b",
   "metadata": {},
   "source": [
    "# Вступ\n",
    "Мене **звати** Іван !  \n",
    "Я пишу код на *Python*!  \n",
    "Ця програма робить щось корисне.\n"
   ]
  },
  {
   "cell_type": "code",
   "execution_count": 21,
   "id": "67135fd7-c670-42cd-a40a-e62c3984df21",
   "metadata": {},
   "outputs": [
    {
     "name": "stdout",
     "output_type": "stream",
     "text": [
      "Hello world!\n"
     ]
    }
   ],
   "source": [
    "print ('Hello world!')"
   ]
  },
  {
   "cell_type": "markdown",
   "id": "8b2c2614-6cca-4f9c-85d3-c6224b473a65",
   "metadata": {},
   "source": [
    "# Розділ 1 \n",
    "## Підрозділ \n",
    "Просто текст \n",
    "# Розділ 2 "
   ]
  },
  {
   "cell_type": "code",
   "execution_count": 22,
   "id": "82e06dde-d5cd-4aad-91c3-85b25f3f96b8",
   "metadata": {},
   "outputs": [
    {
     "name": "stdout",
     "output_type": "stream",
     "text": [
      "My_first_notebook.ipynb \u001b[34minclude\u001b[m\u001b[m                 \u001b[34mshare\u001b[m\u001b[m\n",
      "\u001b[34mbin\u001b[m\u001b[m                     \u001b[34mlib\u001b[m\u001b[m\n",
      "\u001b[34metc\u001b[m\u001b[m                     pyvenv.cfg\n"
     ]
    }
   ],
   "source": [
    "!ls"
   ]
  },
  {
   "cell_type": "code",
   "execution_count": 23,
   "id": "2ed591ae-925e-4f02-851b-f5450e3a5002",
   "metadata": {},
   "outputs": [
    {
     "name": "stdout",
     "output_type": "stream",
     "text": [
      "/Users/maksimmirosnicenko/analytics\n"
     ]
    }
   ],
   "source": [
    "!pwd"
   ]
  },
  {
   "cell_type": "code",
   "execution_count": 7,
   "id": "cc10029d-70ec-40ee-8036-4a8d8d1e06a0",
   "metadata": {},
   "outputs": [
    {
     "name": "stdout",
     "output_type": "stream",
     "text": [
      "0\n",
      "1\n",
      "2\n",
      "3\n",
      "4\n",
      "5\n",
      "6\n",
      "7\n",
      "8\n",
      "9\n"
     ]
    }
   ],
   "source": [
    "import time  \n",
    "\n",
    "for i in range (10):   \n",
    "    print (i)\n",
    "    time.sleep(30)                 \n",
    "    "
   ]
  },
  {
   "cell_type": "code",
   "execution_count": 8,
   "id": "5d284f53-4d64-4fb5-bdc0-1391cd0cc9d4",
   "metadata": {},
   "outputs": [],
   "source": [
    "my_list = [1, 2, 3, 4]"
   ]
  },
  {
   "cell_type": "code",
   "execution_count": 9,
   "id": "a3f1149a-6738-4fa6-bba3-beddb3f81caa",
   "metadata": {},
   "outputs": [
    {
     "data": {
      "text/plain": [
       "[1, 2, 3, 4]"
      ]
     },
     "execution_count": 9,
     "metadata": {},
     "output_type": "execute_result"
    }
   ],
   "source": [
    "my_list"
   ]
  },
  {
   "cell_type": "markdown",
   "id": "4821bdba-5460-4f27-9abf-9fc7a96aafc2",
   "metadata": {},
   "source": [
    "В мене є список\n",
    "* Один\n",
    "    - підсписок\n",
    "        - це\n",
    "  - інший підписок\n",
    "        - то\n",
    "        - і ще то\n",
    "* два\n",
    "  - підсписок"
   ]
  },
  {
   "cell_type": "code",
   "execution_count": 10,
   "id": "8a8ddb5a-54ec-4b2b-a276-fe9f49c733d8",
   "metadata": {},
   "outputs": [
    {
     "data": {
      "text/plain": [
       "[100, 81, 64, 49, 36, 25, 16, 9, 4, 1, 0, 1, 4, 9, 16, 25, 36, 49, 64, 81, 100]"
      ]
     },
     "execution_count": 10,
     "metadata": {},
     "output_type": "execute_result"
    }
   ],
   "source": [
    "[x**2 for x in range(-10,11)]"
   ]
  },
  {
   "cell_type": "code",
   "execution_count": 11,
   "id": "baa6ed2a-a486-4fd5-ba34-4ea5c7a6d401",
   "metadata": {},
   "outputs": [],
   "source": [
    "s = 'Hello world!'"
   ]
  },
  {
   "cell_type": "code",
   "execution_count": 12,
   "id": "0425e93c-00ff-427a-8ac1-be135297ad61",
   "metadata": {},
   "outputs": [
    {
     "name": "stdout",
     "output_type": "stream",
     "text": [
      "Hello world!\n"
     ]
    }
   ],
   "source": [
    "print (s)"
   ]
  },
  {
   "cell_type": "code",
   "execution_count": 13,
   "id": "874816e1-371a-4f76-ab67-c2e4ab239521",
   "metadata": {},
   "outputs": [
    {
     "name": "stdout",
     "output_type": "stream",
     "text": [
      "4\n"
     ]
    },
    {
     "data": {
      "text/plain": [
       "'Hello world!'"
      ]
     },
     "execution_count": 13,
     "metadata": {},
     "output_type": "execute_result"
    }
   ],
   "source": [
    "1+1 \n",
    "print(2+2) \n",
    "3+3 \n",
    "s"
   ]
  },
  {
   "cell_type": "code",
   "execution_count": 14,
   "id": "37f0a79a-6fa9-4976-9e25-073ab72bb522",
   "metadata": {},
   "outputs": [],
   "source": [
    "a = 'Hello everyone!'"
   ]
  },
  {
   "cell_type": "code",
   "execution_count": 15,
   "id": "84df80e5-70e0-475d-8e0c-102088830c29",
   "metadata": {},
   "outputs": [
    {
     "data": {
      "text/plain": [
       "'Hello everyone!'"
      ]
     },
     "execution_count": 15,
     "metadata": {},
     "output_type": "execute_result"
    }
   ],
   "source": [
    "a"
   ]
  },
  {
   "cell_type": "code",
   "execution_count": 16,
   "id": "044335df-58b8-431f-b930-453b0a340732",
   "metadata": {},
   "outputs": [
    {
     "data": {
      "text/plain": [
       "'hello everyone!'"
      ]
     },
     "execution_count": 16,
     "metadata": {},
     "output_type": "execute_result"
    }
   ],
   "source": [
    "a.lower()"
   ]
  },
  {
   "cell_type": "code",
   "execution_count": 17,
   "id": "2a445ccc-964c-4fc8-a38f-923e9c0e837a",
   "metadata": {},
   "outputs": [],
   "source": [
    "import matplotlib.pyplot as plt \n",
    "import numpy as np"
   ]
  },
  {
   "cell_type": "code",
   "execution_count": 18,
   "id": "d2f1b5d0-728b-447d-8c8f-fea294ca4b78",
   "metadata": {},
   "outputs": [
    {
     "data": {
      "text/plain": [
       "[<matplotlib.lines.Line2D at 0x1138b1810>]"
      ]
     },
     "execution_count": 18,
     "metadata": {},
     "output_type": "execute_result"
    },
    {
     "data": {
      "image/png": "[encoded data removed]",
      "text/plain": [
       "<Figure size 640x480 with 1 Axes>"
      ]
     },
     "metadata": {},
     "output_type": "display_data"
    }
   ],
   "source": [
    "plt.plot(np.sin(range(10))) \n"
   ]
  },
  {
   "cell_type": "markdown",
   "id": "d73a9559-5629-4f8f-a1de-6aca051a236b",
   "metadata": {},
   "source": [
    "# Розділ 3"
   ]
  },
  {
   "cell_type": "code",
   "execution_count": 19,
   "id": "99c3aa4b-c75a-4f35-91c7-6639654a739f",
   "metadata": {},
   "outputs": [
    {
     "data": {
      "text/plain": [
       "3"
      ]
     },
     "execution_count": 19,
     "metadata": {},
     "output_type": "execute_result"
    }
   ],
   "source": [
    "a = 1 \n",
    "b = 2 \n",
    "a+b"
   ]
  },
  {
   "cell_type": "code",
   "execution_count": null,
   "id": "cfaeefa4-9848-476a-a822-86cc03fe0514",
   "metadata": {},
   "outputs": [],
   "source": []
  },
  {
   "cell_type": "markdown",
   "id": "f555b360-e2bd-48b9-bd5d-d32067cc75ba",
   "metadata": {
    "jp-MarkdownHeadingCollapsed": true
   },
   "source": [
    "# Вступ  \n",
    "Мене **звати** Іван! \n",
    "\n",
    "Я пишу код на *Python*!  \n",
    "\n",
    "Ця прогрпма робить щось корисне."
   ]
  },
  {
   "cell_type": "code",
   "execution_count": 20,
   "id": "dd317bfc-4a94-4ae9-9c4b-e7e4307f60a1",
   "metadata": {},
   "outputs": [
    {
     "data": {
      "text/plain": [
       "140"
      ]
     },
     "execution_count": 20,
     "metadata": {},
     "output_type": "execute_result"
    }
   ],
   "source": [
    "120+20"
   ]
  }
 ],
 "metadata": {
  "kernelspec": {
   "display_name": "Python 3 (ipykernel)",
   "language": "python",
   "name": "python3"
  },
  "language_info": {
   "codemirror_mode": {
    "name": "ipython",
    "version": 3
   },
   "file_extension": ".py",
   "mimetype": "text/x-python",
   "name": "python",
   "nbconvert_exporter": "python",
   "pygments_lexer": "ipython3",
   "version": "3.13.9"
  }
 },
 "nbformat": 4,
 "nbformat_minor": 5
}
